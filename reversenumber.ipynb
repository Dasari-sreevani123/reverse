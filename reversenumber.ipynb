{
 "cells": [
  {
   "cell_type": "code",
   "execution_count": 4,
   "metadata": {},
   "outputs": [
    {
     "name": "stdout",
     "output_type": "stream",
     "text": [
      "4321\n"
     ]
    }
   ],
   "source": [
    "#reverse of a number method --1\n",
    "num = int(input(\"Enter num :\"))  #num=1234\n",
    "rem = 0\n",
    "reverse = 0\n",
    "while num != 0:\n",
    "    rem = num % 10\n",
    "    reverse = reverse * 10 + rem\n",
    "    num = num // 10\n",
    "print(reverse)"
   ]
  },
  {
   "cell_type": "code",
   "execution_count": 5,
   "metadata": {},
   "outputs": [
    {
     "name": "stdout",
     "output_type": "stream",
     "text": [
      "-4321\n"
     ]
    }
   ],
   "source": [
    "#reverse of a number in negative sequence   method --1\n",
    "def reverse(n):    #n=-1234\n",
    "    if n < 0:\n",
    "        n = str(abs(n))+\"-\"\n",
    "    return int(str(n)[::-1])\n",
    "n = int(input(\"enter a number:\"))\n",
    "print(reverse(n))"
   ]
  }
 ],
 "metadata": {
  "kernelspec": {
   "display_name": "Python 3",
   "language": "python",
   "name": "python3"
  },
  "language_info": {
   "codemirror_mode": {
    "name": "ipython",
    "version": 3
   },
   "file_extension": ".py",
   "mimetype": "text/x-python",
   "name": "python",
   "nbconvert_exporter": "python",
   "pygments_lexer": "ipython3",
   "version": "3.12.4"
  }
 },
 "nbformat": 4,
 "nbformat_minor": 2
}
